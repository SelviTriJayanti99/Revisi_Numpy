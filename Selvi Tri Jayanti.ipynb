{
  "nbformat": 4,
  "nbformat_minor": 0,
  "metadata": {
    "colab": {
      "provenance": [],
      "include_colab_link": true
    },
    "kernelspec": {
      "name": "python3",
      "display_name": "Python 3"
    },
    "language_info": {
      "name": "python"
    }
  },
  "cells": [
    {
      "cell_type": "markdown",
      "metadata": {
        "id": "view-in-github",
        "colab_type": "text"
      },
      "source": [
        "<a href=\"https://colab.research.google.com/github/SelviTriJayanti99/Revisi_Numpy/blob/main/Selvi%20Tri%20Jayanti.ipynb\" target=\"_parent\"><img src=\"https://colab.research.google.com/assets/colab-badge.svg\" alt=\"Open In Colab\"/></a>"
      ]
    },
    {
      "cell_type": "code",
      "execution_count": null,
      "metadata": {
        "colab": {
          "base_uri": "https://localhost:8080/"
        },
        "id": "A_ZX1b46CJ-t",
        "outputId": "8362edc4-6bca-4302-851e-6cc8b2d96bf5"
      },
      "outputs": [
        {
          "output_type": "stream",
          "name": "stdout",
          "text": [
            "[99, 'Selvi', 4.12, True]\n",
            "[99, 'Selvi', 4.12, True, 'Sigma']\n",
            "Isi list: ['Selvi', 'Mama Papa', True, 'Sigma']\n"
          ]
        }
      ],
      "source": [
        "#membuat list\n",
        "my_list = [99, \"Selvi\", 4.12, True]\n",
        "print(my_list)\n",
        "\n",
        "#menambahkan elemen\n",
        "my_list.append(\"Sigma\")\n",
        "print(my_list)\n",
        "\n",
        "#menghapus elemen\n",
        "my_list.remove(99)\n",
        "\n",
        "#update elemen\n",
        "my_list[1] = \"Mama Papa\"\n",
        "\n",
        "#menampilkan list langsung\n",
        "print(\"Isi list:\", my_list)"
      ]
    },
    {
      "cell_type": "code",
      "source": [
        "import array as arr\n",
        "\n",
        "#membuat array bertipe integer\n",
        "my_array = arr.array('i', [1, 2, 3, 4])\n",
        "\n",
        "#operasi dasar\n",
        "my_array.append(4)\n",
        "my_array.remove(2)\n",
        "my_array[0] = 10\n",
        "print(\"Isi array:\", end=\"\")\n",
        "for x in my_array:\n",
        "   print(x, end=\"\")"
      ],
      "metadata": {
        "colab": {
          "base_uri": "https://localhost:8080/"
        },
        "id": "O2M2IRwZDq4v",
        "outputId": "e99dceea-8afb-439d-cf50-c03870fe0c0d"
      },
      "execution_count": null,
      "outputs": [
        {
          "output_type": "stream",
          "name": "stdout",
          "text": [
            "Isi array:10344"
          ]
        }
      ]
    },
    {
      "cell_type": "code",
      "source": [
        "#list\n",
        "my_list = [20, \"Mama\", 3.15, True] # campuran data tipe\n",
        "my_list.append(\"AY\")\n",
        "print(\"List:\", my_list)\n",
        "\n",
        "#array dgn modul array\n",
        "import array as arr\n",
        "my_array = arr.array('i', [ 1, 2, 3, 4, 5])\n",
        "my_array.append(6)\n",
        "print(\"array(module array):\", my_array.tolist())\n",
        "\n",
        "import numpy as np\n",
        "np_array = np.array([1,2,3,4,5])\n",
        "print(\"Numpy Array:\", np_array)\n",
        "print(\"Operasi Aritmatika (+30):\", np_array + 30)"
      ],
      "metadata": {
        "colab": {
          "base_uri": "https://localhost:8080/"
        },
        "id": "OhdURSNCE6sC",
        "outputId": "184e7b0a-3e4a-4ee5-a9e0-9ec396a9ba07"
      },
      "execution_count": null,
      "outputs": [
        {
          "output_type": "stream",
          "name": "stdout",
          "text": [
            "List: [20, 'Mama', 3.15, True, 'AY']\n",
            "array(module array): [1, 2, 3, 4, 5, 6]\n",
            "Numpy Array: [1 2 3 4 5]\n",
            "Operasi Aritmatika (+30): [31 32 33 34 35]\n"
          ]
        }
      ]
    },
    {
      "cell_type": "code",
      "source": [
        "import numpy as np\n",
        "arr = np.array([1, 2, 3, 4])\n",
        "print(arr) # [1 2 3 4]"
      ],
      "metadata": {
        "colab": {
          "base_uri": "https://localhost:8080/"
        },
        "id": "psRGvX4bHSlp",
        "outputId": "1ad72568-6129-4407-ff3f-224802caff66"
      },
      "execution_count": null,
      "outputs": [
        {
          "output_type": "stream",
          "name": "stdout",
          "text": [
            "[1 2 3 4]\n"
          ]
        }
      ]
    },
    {
      "cell_type": "code",
      "source": [
        "matrik_np = np.array([[1,2,3],\n",
        "                     [4,5,6],\n",
        "                     [7,8,9]])\n",
        "\n",
        "#membuat array berisi nol\n",
        "zeros = np.zeros((3,10)) #array 3×10\n",
        "print(zeros)\n",
        "\n",
        "#membuat array berisi 1\n",
        "ones = np.ones((2,8))\n",
        "print(ones)\n",
        "\n",
        "#np.arangen\n",
        "arr = np.arange(0, 18, 2)\n",
        "print(arr) #\n",
        "\n",
        "#np.linspace\n",
        "linspace=np.linspace(0,8,1)\n",
        "print(linspace)"
      ],
      "metadata": {
        "colab": {
          "base_uri": "https://localhost:8080/"
        },
        "id": "G7NtadwXIl41",
        "outputId": "0e1241bc-554a-4674-f22f-01470bc5cf1a"
      },
      "execution_count": null,
      "outputs": [
        {
          "output_type": "stream",
          "name": "stdout",
          "text": [
            "[[0. 0. 0. 0. 0. 0. 0. 0. 0. 0.]\n",
            " [0. 0. 0. 0. 0. 0. 0. 0. 0. 0.]\n",
            " [0. 0. 0. 0. 0. 0. 0. 0. 0. 0.]]\n",
            "[[1. 1. 1. 1. 1. 1. 1. 1.]\n",
            " [1. 1. 1. 1. 1. 1. 1. 1.]]\n",
            "[ 0  2  4  6  8 10 12 14 16]\n",
            "[0.]\n"
          ]
        }
      ]
    },
    {
      "cell_type": "code",
      "source": [
        "#np.random.rand\n",
        "random_arr=np.random.rand(3,5)\n",
        "print(random_arr)\n",
        "\n",
        "#atribut array np\n",
        "arr=np.array([[1,2,3], [4,5,6]])\n",
        "print(arr.shape)\n",
        "\n",
        "#ndim: jumlah dimensi(rank) dari array\n",
        "arr = np.array([[[1, 4], [8,9]]])\n",
        "print(arr.ndim)\n",
        "\n",
        "#size: jumlah total elemen dalam array\n",
        "arr = np.zeros((3,8))\n",
        "print(arr.size)"
      ],
      "metadata": {
        "colab": {
          "base_uri": "https://localhost:8080/"
        },
        "id": "W4et5wOqLOc5",
        "outputId": "bf0cfb23-ed79-43a5-a698-bb1963cf73d4"
      },
      "execution_count": null,
      "outputs": [
        {
          "output_type": "stream",
          "name": "stdout",
          "text": [
            "[[0.1797431  0.36328604 0.85913002 0.40075513 0.50948307]\n",
            " [0.05016444 0.40950674 0.99436539 0.57269755 0.92597729]\n",
            " [0.68302145 0.86916521 0.29531862 0.26222291 0.51190703]]\n",
            "(2, 3)\n",
            "3\n",
            "24\n"
          ]
        }
      ]
    },
    {
      "cell_type": "code",
      "source": [
        "#indexing (akses&elemen)\n",
        "#1D\n",
        "arr = np.array([10,80,40,60])\n",
        "print(arr[0])\n",
        "print(arr[-1])\n",
        "\n",
        "#2D\n",
        "arr = np.array([[1,2], [3,4]])\n",
        "print(arr[0,1])\n",
        "\n",
        "#Slicing\n",
        "#1D\n",
        "arr = np.arange(10)\n",
        "print(arr[2:7:2])\n",
        "\n",
        "#2D\n",
        "arr = np.array([[1, 2, 3], [4, 5, 6], [7, 8, 9]])\n",
        "print(arr[0:2, 1:3])"
      ],
      "metadata": {
        "colab": {
          "base_uri": "https://localhost:8080/"
        },
        "id": "M7fgUH4lNjwA",
        "outputId": "1ca7b7d0-aa50-457f-9612-89de8d39f5ee"
      },
      "execution_count": null,
      "outputs": [
        {
          "output_type": "stream",
          "name": "stdout",
          "text": [
            "10\n",
            "60\n",
            "2\n",
            "[2 4 6]\n",
            "[[2 3]\n",
            " [5 6]]\n"
          ]
        }
      ]
    },
    {
      "cell_type": "code",
      "source": [
        "y = np.random.randint(0,10, size=(9,9))\n",
        "print(y)"
      ],
      "metadata": {
        "colab": {
          "base_uri": "https://localhost:8080/"
        },
        "id": "YLuemThWN4wP",
        "outputId": "d0bb58cf-92da-4df8-8f62-b371753a5a11"
      },
      "execution_count": null,
      "outputs": [
        {
          "output_type": "stream",
          "name": "stdout",
          "text": [
            "[[3 2 8 5 0 8 4 7 0]\n",
            " [0 0 3 6 1 6 4 1 9]\n",
            " [2 0 9 1 1 2 7 4 4]\n",
            " [5 1 0 5 1 7 3 0 6]\n",
            " [5 0 7 3 3 0 7 6 9]\n",
            " [1 7 7 1 2 3 7 3 7]\n",
            " [4 4 6 0 2 1 5 7 3]\n",
            " [4 7 7 3 4 6 4 4 4]\n",
            " [8 1 9 7 3 9 7 9 1]]\n"
          ]
        }
      ]
    },
    {
      "cell_type": "code",
      "source": [
        "#Contoh Penerapan\n",
        "#Studi Kasus: Analisis Rating Anime Harian\n",
        "\n",
        "import numpy as np\n",
        "# 1. Buat data rating anime selama 7 hari\n",
        "rating = np.array([8.5, 8.7, 9.0, 8.9, 9.2, 8.8, 9.1])\n",
        "\n",
        "# 2. Cek atribut dasar array\n",
        "print(\"Shape:\", rating.shape)\n",
        "print(\"Dimensi:\", rating.ndim)\n",
        "print(\"Tipe data:\", rating.dtype)\n",
        "print(\"Jumlah data:\", rating.size)\n",
        "\n",
        "# 3. Slicing: ambil 3 hari pertama\n",
        "awal = rating[:3]\n",
        "print(\"3 hari pertama:\", awal)\n",
        "\n",
        "# 4. Cari 3 rating tertinggi\n",
        "urut = np.sort(rating)\n",
        "tertinggi = urut[-3:]\n",
        "print(\"3 rating tertinggi:\", tertinggi)\n",
        "\n",
        "# 5. Prediksi rating besok (rata-rata + 0.1)\n",
        "prediksi = np.zeros(1)\n",
        "prediksi[0] = np.mean(rating) + 0.1\n",
        "print(\"Prediksi rating besok:\", prediksi[0])"
      ],
      "metadata": {
        "colab": {
          "base_uri": "https://localhost:8080/"
        },
        "id": "-8WOWUHgWk4c",
        "outputId": "a6630a1f-2dc5-4d09-dbc1-972579e578ff"
      },
      "execution_count": null,
      "outputs": [
        {
          "output_type": "stream",
          "name": "stdout",
          "text": [
            "Shape: (7,)\n",
            "Dimensi: 1\n",
            "Tipe data: float64\n",
            "Jumlah data: 7\n",
            "3 hari pertama: [8.5 8.7 9. ]\n",
            "3 rating tertinggi: [9.  9.1 9.2]\n",
            "Prediksi rating besok: 8.985714285714284\n"
          ]
        }
      ]
    },
    {
      "cell_type": "code",
      "source": [
        "# Koding T13.1   numpy amin dan numpy amax\n",
        "arr = np.array([3, 1, 4, 1, 5, 9, 2, 6, 5])\n",
        "min_value = np.amin(arr)\n",
        "print(\"Nilai Minimum:\", min_value)\n",
        "max_value = np.amax(arr)\n",
        "print(\"Nilai Maksimum:\", max_value)\n",
        "\n",
        "#Koding T13.2    numpy ptp\n",
        "# Menghitung rentang (range) dari array\n",
        "range_value = np.ptp(arr)\n",
        "print(\"\\nArray:\", arr)\n",
        "print(\"Rentang:\", range_value)\n",
        "\n",
        "#Koding T13.3 numpy percentile\n",
        "#Membuat array NumPy\n",
        "arr = np.array([2, 4, 5, 9, 2, 1, 7, 3, 5])\n",
        "# Menghitung persentil ke-25 (Q1)\n",
        "q1 = np.percentile(arr, 25)\n",
        "# Menghitung persentil ke-50 (median)\n",
        "median = np.percentile(arr, 50)\n",
        "# Menghitung persentil ke-75 (Q3)\n",
        "q3 = np.percentile(arr, 75)\n",
        "# Menampilkan hasil\n",
        "print(\"Q1 (Persentil ke-25):\", q1)\n",
        "print(\"Median (Persentil ke-50):\", median)\n",
        "print(\"Q3 (Persentil ke-75):\", q3)\n",
        "\n",
        "#Koding T13.4 Numpy median\n",
        "# Membuat array NumPy\n",
        "arr = np.array([3, 1, 4, 1, 5, 9, 2, 6, 5])\n",
        "# Menggunakan numpy.median() untuk menghitung median\n",
        "median_value = np.median(arr)\n",
        "print(\"Array:\", arr)\n",
        "print(\"Median:\", median_value)\n",
        "\n",
        "#Koding T13.5 numpy mean\n",
        "arr = np.array([3, 1, 4, 1, 5, 9, 2, 6, 5])\n",
        "mean_value = np.mean(arr)\n",
        "print(\"Array:\", arr)\n",
        "print(\"Mean:\", mean_value)\n",
        "\n",
        "#Koding T13.6 numpy averange\n",
        "arr = np.array([3, 1, 4, 1, 5, 9, 2, 6, 5])\n",
        "average = np.average(arr)\n",
        "print(average)"
      ],
      "metadata": {
        "colab": {
          "base_uri": "https://localhost:8080/"
        },
        "id": "fqvk0ZLnYr3O",
        "outputId": "687e364d-7d61-46f0-d131-a445b19e2512"
      },
      "execution_count": null,
      "outputs": [
        {
          "output_type": "stream",
          "name": "stdout",
          "text": [
            "Nilai Minimum: 1\n",
            "Nilai Maksimum: 9\n",
            "\n",
            "Array: [3 1 4 1 5 9 2 6 5]\n",
            "Rentang: 8\n",
            "Q1 (Persentil ke-25): 2.0\n",
            "Median (Persentil ke-50): 4.0\n",
            "Q3 (Persentil ke-75): 5.0\n",
            "Array: [3 1 4 1 5 9 2 6 5]\n",
            "Median: 4.0\n",
            "Array: [3 1 4 1 5 9 2 6 5]\n",
            "Mean: 4.0\n",
            "4.0\n"
          ]
        }
      ]
    },
    {
      "cell_type": "code",
      "source": [
        "#Koding T13.7 standart deviation\n",
        "arr = np.array([3, 1, 4, 1, 5, 9, 2, 6, 5])\n",
        "# Menghitung standar deviasi dari array arr\n",
        "std_deviation = np.std(arr)\n",
        "print(\"Standar Deviasi:\", std_deviation)\n",
        "\n",
        "#Koding T13.8  >\n",
        "# Membuat array NumPy\n",
        "arr = np.array([2, 1, 4, 5, 7, 4, 6, 3, 1])\n",
        "#menghitung varian dari array arr\n",
        "variance = np.var(arr)\n",
        "print(\"Array:\", arr)\n",
        "print(\"Varians:\", variance)"
      ],
      "metadata": {
        "colab": {
          "base_uri": "https://localhost:8080/"
        },
        "id": "1QC_w4zQZoPS",
        "outputId": "54329edf-6d0e-4299-c763-f2b2205ded31"
      },
      "execution_count": null,
      "outputs": [
        {
          "output_type": "stream",
          "name": "stdout",
          "text": [
            "Standar Deviasi: 2.449489742783178\n",
            "Array: [2 1 4 5 7 4 6 3 1]\n",
            "Varians: 4.0\n"
          ]
        }
      ]
    },
    {
      "cell_type": "markdown",
      "source": [],
      "metadata": {
        "id": "ZjyNvf_qf_aB"
      }
    }
  ]
}